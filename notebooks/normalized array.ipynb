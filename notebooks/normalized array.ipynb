{
 "cells": [
  {
   "cell_type": "code",
   "execution_count": 20,
   "metadata": {},
   "outputs": [],
   "source": [
    "import Statistics"
   ]
  },
  {
   "cell_type": "code",
   "execution_count": 14,
   "metadata": {},
   "outputs": [],
   "source": [
    "struct NormalizedArray{T,N} <: AbstractArray{T,N}\n",
    "    values::AbstractArray{T,N}\n",
    "    mean::T\n",
    "    std::T\n",
    "end\n",
    "\n",
    "Base.size(x::NormalizedArray) = size(x.values)\n",
    "Base.getindex(x::NormalizedArray, key...) = Base.getindex(x.values, key...)"
   ]
  },
  {
   "cell_type": "code",
   "execution_count": 17,
   "metadata": {},
   "outputs": [],
   "source": [
    "a = NormalizedArray(randn(Float64, 10, 10, 12), 0.0, 1.0);"
   ]
  },
  {
   "cell_type": "code",
   "execution_count": 22,
   "metadata": {},
   "outputs": [
    {
     "data": {
      "text/plain": [
       "13×3×2 Array{Float32,3}:\n",
       "[:, :, 1] =\n",
       " 0.0354021  0.0538917  0.0717491\n",
       " 0.99549    0.921066   0.320095\n",
       " 0.876611   0.915269   0.875812\n",
       " 0.886387   0.0699795  0.88126\n",
       " 0.674441   0.501985   0.535213\n",
       " 0.703292   0.698551   0.0641453\n",
       " 0.347556   0.973575   0.590564\n",
       " 0.641555   0.92862    0.205041\n",
       " 0.330691   0.793889   0.727864\n",
       " 0.409389   0.108992   0.032151\n",
       " 0.551699   0.750583   0.387207\n",
       " 0.586302   0.266166   0.152099\n",
       " 0.417019   0.93821    0.522896\n",
       "\n",
       "[:, :, 2] =\n",
       " 0.10383    0.512606  0.402071\n",
       " 0.103251   0.812713  0.53716\n",
       " 0.70478    0.642867  0.53083\n",
       " 0.168016   0.266083  0.00379539\n",
       " 0.0230451  0.274971  0.084518\n",
       " 0.692356   0.370031  0.456105\n",
       " 0.201293   0.369514  0.950717\n",
       " 0.685718   0.751751  0.614303\n",
       " 0.866215   0.55982   0.96483\n",
       " 0.730219   0.42632   0.779827\n",
       " 0.246532   0.598546  0.0170286\n",
       " 0.695209   0.114305  0.712608\n",
       " 0.206214   0.705185  0.261991"
      ]
     },
     "execution_count": 22,
     "metadata": {},
     "output_type": "execute_result"
    }
   ],
   "source": [
    "function normalize(x::AbstractArray{T,N}) where {T,N}\n",
    "    x_mean = Statistics.mean(x)\n",
    "    x_std = Statistics.std(x)\n",
    "    NormalizedArray((x .- x_mean) ./ x_std, x_mean, x_std)\n",
    "end\n",
    "\n",
    "function denormalize(x_normed::NormalizedArray{T,N}) where {T,N}\n",
    "    x_normed.values .* x_normed.std .+ x_normed.mean\n",
    "end\n",
    "\n",
    "denormalize(normalize(rand(Float32, (13,3,2))))"
   ]
  },
  {
   "cell_type": "code",
   "execution_count": null,
   "metadata": {},
   "outputs": [],
   "source": []
  }
 ],
 "metadata": {
  "kernelspec": {
   "display_name": "Julia 1.5.1",
   "language": "julia",
   "name": "julia-1.5"
  },
  "language_info": {
   "file_extension": ".jl",
   "mimetype": "application/julia",
   "name": "julia",
   "version": "1.5.1"
  }
 },
 "nbformat": 4,
 "nbformat_minor": 4
}
